{
 "cells": [
  {
   "cell_type": "markdown",
   "metadata": {},
   "source": [
    "# Übungsblatt 6\n",
    "## Präsenzaufgaben\n",
    "### Aufgabe 1 &nbsp;&nbsp;&nbsp; Kongruenz 1.0\n",
    "Betrachten Sie die folgenden Sätze. Offensichtlich besteht zwischen Artikel und Nomen einer Nominalphrase Kongruenz im Genus.\n",
    "  Nutzen Sie Merkmalstrukturen in einem Python-Skript zur Überprüfung dieser Kongruenz. Ihr Skript sollte alle untenstehenden Beispiele korrekt als grammatisch/ungrammatisch klassifizieren können.\n",
    "  \n",
    "1. - Der Löffel ist aus Silber.\n",
    "   - &ast; Der Gabel ist aus Silber.\n",
    "   - &ast; Der Messer ist aus Silber.\n",
    "2. - &ast; Die Löffel ist aus Silber.\n",
    "   - Die Gabel ist aus Silber.\n",
    "   - &ast; Die Messer ist aus Silber.\n",
    "3. - &ast; Das Löffel ist aus Silber.\n",
    "   - &ast; Das Gabel ist aus Silber.\n",
    "   - Das Messer ist aus Silber."
   ]
  },
  {
   "cell_type": "code",
   "execution_count": 1,
   "metadata": {
    "collapsed": true
   },
   "outputs": [],
   "source": [
    "from nltk import FeatStruct\n",
    "from sklearn.metrics import accuracy_score\n",
    "from itertools import product\n",
    "\n",
    "test_cases = product(\n",
    "    [\"der\", \"die\", \"das\"], [\"Löffel\", \"Gabel\", \"Messer\"]\n",
    ")\n",
    "truth = [\n",
    "    True, False, False,\n",
    "    False, True, False,\n",
    "    False, False, True\n",
    "]"
   ]
  },
  {
   "cell_type": "code",
   "execution_count": 2,
   "metadata": {
    "collapsed": true
   },
   "outputs": [],
   "source": [
    "pred = []\n",
    "for nomPhr in test_cases:\n",
    "    # Baseline: Alles ist grammatisch!\n",
    "    pred.append(True)"
   ]
  },
  {
   "cell_type": "code",
   "execution_count": 3,
   "metadata": {},
   "outputs": [
    {
     "name": "stdout",
     "output_type": "stream",
     "text": [
      "Acc: 0.3333333333333333\n"
     ]
    }
   ],
   "source": [
    "print(\"Acc: {}\".format(accuracy_score(truth, pred)))"
   ]
  },
  {
   "cell_type": "markdown",
   "metadata": {},
   "source": [
    "### Aufgabe 2 &nbsp;&nbsp;&nbsp; Semantische Merkmalstrukturen\n",
    "Implementieren Sie die Merkmalstrukturen, die auf dem Übungsblatt angeben sind, als `nltk.FeatStruct` und schreiben Sie ein Programm, das für einen gegebenen Satz die richtige Merkmalstruktur aus dem Lexikon auswählt und die Lücken für Subjekt und Objekt des Satzes füllt. Geben Sie anschlie\\ss end die vollständige Merkmalstruktur auf der Standardausgabe aus.\n",
    "\n",
    "_Anmerkung_: Sie dürfen annehmen, dass  wir es nur mit sehr einfachen Sätzen zu tun haben, in denen das Token direkt vor dem Verb dem Subjekt und das Token direkt danach dem Objekt entspricht.\n",
    "\n",
    "Testen Sie Ihr Programm mit den folgenden Sätzen:"
   ]
  },
  {
   "cell_type": "code",
   "execution_count": 4,
   "metadata": {
    "collapsed": true
   },
   "outputs": [],
   "source": [
    "sentences = [\n",
    "   \"@ARTEde folgt Dir jetzt!\",\n",
    "   \"Das überraschte mich doch sehr!\",\n",
    "   \"Wer folgt wem auf Twitter?\",\n",
    "   \"John überraschte Jane mit einer richtigen Antwort.\" \n",
    "]"
   ]
  },
  {
   "cell_type": "code",
   "execution_count": null,
   "metadata": {
    "collapsed": true
   },
   "outputs": [],
   "source": [
    "lexicon = {\n",
    "    # feature structures go here\n",
    "}"
   ]
  },
  {
   "cell_type": "code",
   "execution_count": 5,
   "metadata": {
    "collapsed": true
   },
   "outputs": [],
   "source": [
    "#  In: sentence as a string\n",
    "# Out: semantic feature structure\n",
    "def semantic_parse(sentence):\n",
    "    pass"
   ]
  },
  {
   "cell_type": "code",
   "execution_count": 6,
   "metadata": {},
   "outputs": [
    {
     "name": "stdout",
     "output_type": "stream",
     "text": [
      "\n",
      "@ARTEde folgt Dir jetzt!\n",
      "None\n",
      "\n",
      "Das überraschte mich doch sehr!\n",
      "None\n",
      "\n",
      "Wer folgt wem auf Twitter?\n",
      "None\n",
      "\n",
      "John überraschte Jane mit einer richtigen Antwort.\n",
      "None\n"
     ]
    }
   ],
   "source": [
    "for sent in sentences:\n",
    "    fs = semantic_parse(sent)\n",
    "    print()\n",
    "    print(sent)\n",
    "    print(fs)"
   ]
  }
 ],
 "metadata": {
  "kernelspec": {
   "display_name": "Python 3",
   "language": "python",
   "name": "python3"
  },
  "language_info": {
   "codemirror_mode": {
    "name": "ipython",
    "version": 3
   },
   "file_extension": ".py",
   "mimetype": "text/x-python",
   "name": "python",
   "nbconvert_exporter": "python",
   "pygments_lexer": "ipython3",
   "version": "3.4.6"
  }
 },
 "nbformat": 4,
 "nbformat_minor": 2
}
