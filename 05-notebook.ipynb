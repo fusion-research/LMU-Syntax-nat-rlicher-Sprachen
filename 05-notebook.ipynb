{
 "cells": [
  {
   "cell_type": "markdown",
   "metadata": {},
   "source": [
    "# Übungsblatt 5\n",
    "## Präsenzaufgaben\n",
    "### Aufgabe 1 &nbsp;&nbsp;&nbsp; Dependenzgrammatik mit dem NLTK\n",
    "\n",
    "Das NLTK lässt beim Schreiben von Dependenzgrammatiken lediglich die Beschreibung\n",
    "der Abhängigkeiten zwischen Wörtern zu. Dadurch werden Dependenzgrammatiken leicht\n",
    "redundant. Betrachten Sie das folgende Beispiel, das Ihnen vom letzten Übungsblatt\n",
    "bekannt vorkommen dürfte:"
   ]
  },
  {
   "cell_type": "code",
   "execution_count": 1,
   "metadata": {},
   "outputs": [
    {
     "name": "stdout",
     "output_type": "stream",
     "text": [
      "     gibt     \n",
      " ┌────┼────┐   \n",
      "Mann Frau Buch\n",
      " │    │    │   \n",
      "der  der  das \n",
      "\n"
     ]
    }
   ],
   "source": [
    "from nltk import DependencyGrammar\n",
    "from nltk.parse import ProjectiveDependencyParser\n",
    "\n",
    "grammar = DependencyGrammar.fromstring(\"\"\"\n",
    "'gibt' -> 'Mann' | 'Frau' | 'Buch'\n",
    "'schenkt' -> 'Mann' | 'Frau' | 'Buch'\n",
    "\n",
    "'Mann' -> 'der'\n",
    "'Frau' -> 'der' | 'die'\n",
    "'Buch' -> 'das'\n",
    "\"\"\")\n",
    "\n",
    "parser = ProjectiveDependencyParser(grammar)\n",
    "sent = \"der Mann gibt der Frau das Buch\".split()\n",
    "for tree in parser.parse(sent):\n",
    "    tree.pretty_print(unicodelines=True)"
   ]
  },
  {
   "cell_type": "markdown",
   "metadata": {},
   "source": [
    "Erweitern Sie die Grammatik um die Verben und Adjektive aus Aufgabe 2 und 3 von\n",
    "Übungsblatt 4:\n",
    "- schläft\n",
    "- gefällt\n",
    "- kennt\n",
    "- kluge\n",
    "- schöne\n",
    "- dicke"
   ]
  },
  {
   "cell_type": "code",
   "execution_count": null,
   "metadata": {
    "collapsed": true
   },
   "outputs": [],
   "source": [
    "test_sentence = \"die kluge schöne Frau kennt das dicke Buch\".split()"
   ]
  }
 ],
 "metadata": {
  "kernelspec": {
   "display_name": "Python 3",
   "language": "python",
   "name": "python3"
  },
  "language_info": {
   "codemirror_mode": {
    "name": "ipython",
    "version": 3
   },
   "file_extension": ".py",
   "mimetype": "text/x-python",
   "name": "python",
   "nbconvert_exporter": "python",
   "pygments_lexer": "ipython3",
   "version": "3.4.6"
  }
 },
 "nbformat": 4,
 "nbformat_minor": 2
}
