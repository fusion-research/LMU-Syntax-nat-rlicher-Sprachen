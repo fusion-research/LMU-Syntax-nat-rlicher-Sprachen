{
 "cells": [
  {
   "cell_type": "markdown",
   "metadata": {},
   "source": [
    "# Übungsblatt 4\n",
    "\n",
    "## Präsenzaufgaben\n",
    "\n",
    "### Aufgabe 1 &nbsp;&nbsp;&nbsp; Eine erste (Phrasenstruktur-)Grammatik\n",
    "\n",
    "Werfen Sie einen Blick auf die folgende sehr einfache kontextfreie Grammatik und erklären Sie deren Funktionsweise."
   ]
  },
  {
   "cell_type": "code",
   "execution_count": 1,
   "metadata": {
    "collapsed": true
   },
   "outputs": [],
   "source": [
    "grammar1 = \"\"\"\n",
    "    S -> NP VP\n",
    "    NP -> DET N\n",
    "    DET -> \"der\" | \"die\" | \"das\"\n",
    "    N -> \"Mann\" | \"Frau\" | \"Buch\"\n",
    "    VP -> V NP NP\n",
    "    V -> \"gibt\" | \"schenkt\"\n",
    "\"\"\""
   ]
  },
  {
   "cell_type": "markdown",
   "metadata": {},
   "source": [
    "Sammeln Sie Sätze, die als grammatisch erkannt werden sollten, am besten in einer Liste."
   ]
  },
  {
   "cell_type": "code",
   "execution_count": 2,
   "metadata": {
    "collapsed": true
   },
   "outputs": [],
   "source": [
    "test_sentences = [\n",
    "    \"der Mann gibt der Frau das Buch\"\n",
    "]"
   ]
  },
  {
   "cell_type": "markdown",
   "metadata": {},
   "source": [
    "Die folgende Funktion kann Ihnen helfen, eine Reihe von Sätzen zu analysieren.\n",
    "\n",
    "Je nach Ihrem Geschmack und Kompatibilität mit Ihrem System müssen Sie Zeile 11 ggf. anpassen."
   ]
  },
  {
   "cell_type": "code",
   "execution_count": 3,
   "metadata": {
    "collapsed": true
   },
   "outputs": [],
   "source": [
    "import nltk\n",
    "from IPython.display import display\n",
    "\n",
    "def test_grammar(grammar, sentences):\n",
    "    cfg = nltk.CFG.fromstring(grammar)\n",
    "    rd_parser = nltk.RecursiveDescentParser(cfg)\n",
    "    \n",
    "    for i, sent in enumerate(sentences, 1):\n",
    "        print(\"Satz {}: {}\".format(i, sent))\n",
    "        for tree in rd_parser.parse(sent.split()):\n",
    "            display(tree)  # oder print(tree) oder tree.draw() oder tree.pretty_print()"
   ]
  },
  {
   "cell_type": "markdown",
   "metadata": {},
   "source": [
    "Führen Sie den Test jetzt für `grammar1` aus!"
   ]
  },
  {
   "cell_type": "code",
   "execution_count": 4,
   "metadata": {},
   "outputs": [
    {
     "name": "stdout",
     "output_type": "stream",
     "text": [
      "Satz 1: der Mann gibt der Frau das Buch\n"
     ]
    },
    {
     "data": {
      "image/png": "[encoded data removed]",
      "text/plain": [
       "Tree('S', [Tree('NP', [Tree('DET', ['der']), Tree('N', ['Mann'])]), Tree('VP', [Tree('V', ['gibt']), Tree('NP', [Tree('DET', ['der']), Tree('N', ['Frau'])]), Tree('NP', [Tree('DET', ['das']), Tree('N', ['Buch'])])])])"
      ]
     },
     "metadata": {},
     "output_type": "display_data"
    }
   ],
   "source": [
    "test_grammar(grammar1, test_sentences)"
   ]
  },
  {
   "cell_type": "markdown",
   "metadata": {},
   "source": [
    "### Aufgabe 2 &nbsp;&nbsp;&nbsp; Ein- und zweistellige Verben\n",
    "\n",
    "Bis jetzt akzeptiert die Grammatik in `grammar1` lediglich dreistellige Verben. Erweitern Sie sie so, dass auch Verben mit weniger als zwei Objekten korrekte Verbalphrasen bilden können.\n",
    "\n",
    "Folgende Sätze sollten akzeptiert werden:"
   ]
  },
  {
   "cell_type": "code",
   "execution_count": null,
   "metadata": {
    "collapsed": true
   },
   "outputs": [],
   "source": [
    "test_sentences.extend([\n",
    "    \"der Mann schläft\",\n",
    "    \"das Buch gefällt der Frau\",\n",
    "    \"die Frau kennt das Buch\"\n",
    "])"
   ]
  },
  {
   "cell_type": "code",
   "execution_count": null,
   "metadata": {
    "collapsed": true
   },
   "outputs": [],
   "source": [
    "grammar2 = \"\"\"\n",
    "    S -> NP VP\n",
    "    NP -> DET N\n",
    "    DET -> \"der\" | \"die\" | \"das\"\n",
    "    N -> \"Mann\" | \"Frau\" | \"Buch\"\n",
    "    VP -> V NP NP\n",
    "    V -> \"gibt\" | \"schenkt\"\n",
    "\"\"\""
   ]
  },
  {
   "cell_type": "code",
   "execution_count": null,
   "metadata": {
    "collapsed": true,
    "scrolled": false
   },
   "outputs": [],
   "source": [
    "test_grammar(grammar2, test_sentences)"
   ]
  },
  {
   "cell_type": "markdown",
   "metadata": {},
   "source": [
    "### Aufgabe 3 &nbsp;&nbsp;&nbsp; Beliebig lange Phrasen\n",
    "\n",
    "Erweitern Sie die Grammatik nun derart, dass Nominalphrasen auch Adjektive enthalten dürfen – und zwar beliebig viele.\n",
    "\n",
    "Beispiele:"
   ]
  },
  {
   "cell_type": "code",
   "execution_count": null,
   "metadata": {
    "collapsed": true
   },
   "outputs": [],
   "source": [
    "test_sentences.extend([\n",
    "    \"die kluge schöne Frau kennt das Buch\",\n",
    "    \"der schöne kluge Mann gibt der Frau das dicke Buch\",\n",
    "    \"das dicke schöne kluge Buch schläft\"\n",
    "])"
   ]
  },
  {
   "cell_type": "code",
   "execution_count": null,
   "metadata": {
    "collapsed": true
   },
   "outputs": [],
   "source": [
    "grammar3 = \"\"\"\n",
    "    S -> NP VP\n",
    "    NP -> DET N\n",
    "    DET -> \"der\" | \"die\" | \"das\"\n",
    "    N -> \"Mann\" | \"Frau\" | \"Buch\"\n",
    "    VP -> V NP NP\n",
    "    V -> \"gibt\" | \"schenkt\"\n",
    "\"\"\""
   ]
  },
  {
   "cell_type": "code",
   "execution_count": null,
   "metadata": {
    "collapsed": true
   },
   "outputs": [],
   "source": [
    "test_grammar(grammar3, test_sentences)"
   ]
  },
  {
   "cell_type": "markdown",
   "metadata": {},
   "source": [
    "## Hausaufgaben\n",
    "### Aufgabe 4 &nbsp;&nbsp;&nbsp; Eigennamen\n",
    "\n",
    "Eigennamen können auch ohne Artikel eine Nominalphrase bilden. Erweitern Sie die Grammatik entsprechend.\n",
    "\n",
    "Folgende Sätze sollten korrekt analysiert werden:"
   ]
  },
  {
   "cell_type": "code",
   "execution_count": null,
   "metadata": {
    "collapsed": true
   },
   "outputs": [],
   "source": [
    "test_sentences.extend([\n",
    "    \"der Mann kennt Chomsky\",\n",
    "    \"Marie gibt Fritz das Buch\"\n",
    "])"
   ]
  },
  {
   "cell_type": "code",
   "execution_count": null,
   "metadata": {
    "collapsed": true
   },
   "outputs": [],
   "source": [
    "grammar4 = \"\"\"\n",
    "    S -> NP VP\n",
    "    NP -> DET N\n",
    "    DET -> \"der\" | \"die\" | \"das\"\n",
    "    N -> \"Mann\" | \"Frau\" | \"Buch\"\n",
    "    VP -> V NP NP\n",
    "    V -> \"gibt\" | \"schenkt\"\n",
    "\"\"\""
   ]
  },
  {
   "cell_type": "code",
   "execution_count": null,
   "metadata": {
    "collapsed": true
   },
   "outputs": [],
   "source": [
    "test_grammar(grammar4, test_sentences)"
   ]
  },
  {
   "cell_type": "markdown",
   "metadata": {},
   "source": [
    "### Aufgabe 5 &nbsp;&nbsp;&nbsp; Präpositionalphrasen\n",
    "\n",
    "Erweitern Sie die Grammatik nun derart, dass sowohl Nominalphrasen als auch Verbalphrasen durch Präpositionalphrasen modifiziert werden können. Erkennen Sie die Ambiguität von Übungsblatt 1 wieder?\n",
    "\n",
    "Folgende Sätze sollten akzeptiert werden:"
   ]
  },
  {
   "cell_type": "code",
   "execution_count": null,
   "metadata": {
    "collapsed": true
   },
   "outputs": [],
   "source": [
    "test_sentences.extend([\n",
    "    \"der Mann schläft neben dem Buch\",\n",
    "    \"die Frau kennt das dicke Buch über Chomsky\",\n",
    "    \"die Frau schenkt dem Mann das Buch auf dem Tisch\"\n",
    "])"
   ]
  },
  {
   "cell_type": "markdown",
   "metadata": {},
   "source": [
    "Beachten Sie, dass die Form des Artikels *dem* und das Nomen *Tisch* auch noch als lexikalische Regeln ergänzt werden müssen."
   ]
  },
  {
   "cell_type": "code",
   "execution_count": null,
   "metadata": {
    "collapsed": true
   },
   "outputs": [],
   "source": [
    "grammar5 = \"\"\"\n",
    "    S -> NP VP\n",
    "    NP -> DET N\n",
    "    DET -> \"der\" | \"die\" | \"das\"\n",
    "    N -> \"Mann\" | \"Frau\" | \"Buch\"\n",
    "    VP -> V NP NP\n",
    "    V -> \"gibt\" | \"schenkt\"\n",
    "\"\"\""
   ]
  },
  {
   "cell_type": "code",
   "execution_count": null,
   "metadata": {
    "collapsed": true
   },
   "outputs": [],
   "source": [
    "test_grammar(grammar5, test_sentences)"
   ]
  }
 ],
 "metadata": {
  "kernelspec": {
   "display_name": "Python 3",
   "language": "python",
   "name": "python3"
  },
  "language_info": {
   "codemirror_mode": {
    "name": "ipython",
    "version": 3
   },
   "file_extension": ".py",
   "mimetype": "text/x-python",
   "name": "python",
   "nbconvert_exporter": "python",
   "pygments_lexer": "ipython3",
   "version": "3.4.6"
  }
 },
 "nbformat": 4,
 "nbformat_minor": 2
}
