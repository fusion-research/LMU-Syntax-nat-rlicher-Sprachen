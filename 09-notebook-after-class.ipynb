{
 "cells": [
  {
   "cell_type": "markdown",
   "metadata": {},
   "source": [
    "# Übungsblatt 9\n",
    "## Präsenzaufgaben\n",
    "### Aufgabe 1 &nbsp;&nbsp;&nbsp; Unifikation I"
   ]
  },
  {
   "cell_type": "code",
   "execution_count": 1,
   "metadata": {
    "collapsed": true
   },
   "outputs": [],
   "source": [
    "from nltk.featstruct import FeatStruct"
   ]
  },
  {
   "cell_type": "markdown",
   "metadata": {},
   "source": [
    "Gegeben seien folgende Merkmalstrukturen:"
   ]
  },
  {
   "cell_type": "code",
   "execution_count": 2,
   "metadata": {
    "collapsed": true
   },
   "outputs": [],
   "source": [
    "f1 = FeatStruct(\n",
    "    '[Vorname=Max, Nachname=Mustermann,' + \n",
    "    'Privat=[Strasse=Hauptstrasse, Ort=[Muenchen]]]'\n",
    ")\n",
    "f2 = FeatStruct(\n",
    "    '[Arbeit=[Strasse=\"Oettingenstrasse\", Ort=(1)[\"Muenchen\"]],' +\n",
    "    'Privat=[Ort->(1)]]')\n",
    "f3 = FeatStruct(\n",
    "    '[Strasse=\"Hauptstrasse\"]'\n",
    ")\n",
    "f4 = FeatStruct(\n",
    "    '[Privat=[Strasse=\"Hauptstrasse\", Ort=[\"Passau\"]]]'\n",
    ")"
   ]
  },
  {
   "cell_type": "markdown",
   "metadata": {},
   "source": [
    "Unifizieren Sie:\n",
    "- f1 mit f2"
   ]
  },
  {
   "cell_type": "code",
   "execution_count": 3,
   "metadata": {},
   "outputs": [
    {
     "name": "stdout",
     "output_type": "stream",
     "text": [
      "[Arbeit=[Ort=(1)['Muenchen'], Strasse='Oettingenstrasse'], Nachname='Mustermann', Privat=[Ort->(1), Strasse='Hauptstrasse'], Vorname='Max']\n"
     ]
    }
   ],
   "source": [
    "print(f1.unify(f2).__repr__())"
   ]
  },
  {
   "cell_type": "markdown",
   "metadata": {},
   "source": [
    "- f2 mit f4"
   ]
  },
  {
   "cell_type": "code",
   "execution_count": 4,
   "metadata": {},
   "outputs": [
    {
     "name": "stdout",
     "output_type": "stream",
     "text": [
      "None\n"
     ]
    }
   ],
   "source": [
    "print(f2.unify(f4).__repr__())"
   ]
  },
  {
   "cell_type": "markdown",
   "metadata": {},
   "source": [
    "### Aufgabe 2 &nbsp;&nbsp;&nbsp; Typhierarchie im NLTK"
   ]
  },
  {
   "cell_type": "markdown",
   "metadata": {},
   "source": [
    "Gegeben sei folgende Typhierarchie:\n",
    "\n",
    "$$\\bot \\sqsubseteq \\text{Genitiv}$$\n",
    "\n",
    "$$\\bot \\sqsubseteq \\text{nicht-Genitiv}$$\n",
    "\n",
    "$$\\text{nicht-Genitiv} \\sqsubseteq \\text{Nominativ-Akkusativ}$$\n",
    "\n",
    "$$\\text{nicht-Genitiv} \\sqsubseteq \\text{Dativ}$$\n",
    "\n",
    "$$\\text{Nominativ-Akkusativ} \\sqsubseteq \\text{Nominativ}$$\n",
    "\n",
    "$$\\text{Nominativ-Akkusativ} \\sqsubseteq \\text{Akkusativ}$$\n",
    "\n",
    "Implementieren Sie mithilfe der Klasse `HierarchicalFeature`,\n",
    "die Sie sich von der Kurs-Website herunterladen können, ein Feature `CASE`, das der vorgegebenen Typhierarchie entspricht.\n",
    "\n",
    "Nutzen Sie dieses Feature dann, um Übergenerierung in folgender Grammatik zu vermeiden:"
   ]
  },
  {
   "cell_type": "code",
   "execution_count": 5,
   "metadata": {
    "collapsed": true
   },
   "outputs": [],
   "source": [
    "grammar = \"\"\"\n",
    "S -> NP[*CASE*=nom] VP\n",
    "NP[*CASE*=?x] -> DET[*CASE*=?x,GEN=?y] NOM[*CASE*=?x,GEN=?y]\n",
    "NOM[*CASE*=?x,GEN=?y] -> N[*CASE*=?x,GEN=?y] NP[*CASE*=gen]\n",
    "NOM[*CASE*=?x,GEN=?y] -> N[*CASE*=?x,GEN=?y]\n",
    "VP -> V\n",
    "\n",
    "V -> \"schläft\"\n",
    "DET[*CASE*=nomakk,GEN=fem] -> \"die\"\n",
    "DET[*CASE*=nomakk,GEN=neut] -> \"das\"\n",
    "DET[*CASE*=gen,GEN=mask] -> \"des\"\n",
    "DET[*CASE*=gen,GEN=neut] -> \"des\"\n",
    "DET[*CASE*=nom,GEN=mask] -> \"der\"\n",
    "DET[*CASE*=gen,GEN=fem] -> \"der\"\n",
    "\n",
    "N[*CASE*=nongen,GEN=mask] -> \"Mann\"\n",
    "N[*CASE*=nongen,GEN=fem] -> \"Frau\"\n",
    "N[*CASE*=nongen,GEN=neut] -> \"Kind\"\n",
    "N[*CASE*=gen,GEN=fem] -> \"Frau\"\n",
    "N[*CASE*=gen,GEN=mask] -> \"Mannes\"\n",
    "N[*CASE*=gen,GEN=neut] -> \"Kindes\"\n",
    "\"\"\""
   ]
  },
  {
   "cell_type": "code",
   "execution_count": 6,
   "metadata": {
    "collapsed": true
   },
   "outputs": [],
   "source": [
    "from IPython.display import display\n",
    "import nltk\n",
    "from typed_features import HierarchicalFeature, TYPE"
   ]
  },
  {
   "cell_type": "markdown",
   "metadata": {},
   "source": [
    "Hier muss die Typhierarchie in Form eines `Dictionary` definiert werden:"
   ]
  },
  {
   "cell_type": "code",
   "execution_count": 7,
   "metadata": {
    "collapsed": true
   },
   "outputs": [],
   "source": [
    "type_hierarchy = {\n",
    "    \"gen\": [],\n",
    "    \"nongen\": [\"nomakk\", \"dat\"],\n",
    "    \"nomakk\": [\"nom\", \"akk\"],\n",
    "    \"nom\": [],\n",
    "    \"dat\": [],\n",
    "    \"akk\": []\n",
    "}"
   ]
  },
  {
   "cell_type": "code",
   "execution_count": 8,
   "metadata": {
    "collapsed": true
   },
   "outputs": [],
   "source": [
    "CASE = HierarchicalFeature(\"CASE\", type_hierarchy)\n",
    "compiled_grammar = nltk.grammar.FeatureGrammar.fromstring(\n",
    "    grammar, features=(CASE, TYPE)\n",
    ")\n",
    "parser = nltk.FeatureEarleyChartParser(compiled_grammar)"
   ]
  },
  {
   "cell_type": "markdown",
   "metadata": {},
   "source": [
    "Folgendes sollte funktionieren:"
   ]
  },
  {
   "cell_type": "code",
   "execution_count": 9,
   "metadata": {},
   "outputs": [
    {
     "data": {
      "image/png": "[encoded data removed]",
      "text/plain": [
       "Tree(S[], [Tree(NP[*CASE*='nomakk'], [Tree(DET[*CASE*='nomakk', GEN='neut'], ['das']), Tree(NOM[*CASE*='nongen', GEN='neut'], [Tree(N[*CASE*='nongen', GEN='neut'], ['Kind']), Tree(NP[*CASE*='gen'], [Tree(DET[*CASE*='gen', GEN='fem'], ['der']), Tree(NOM[*CASE*='gen', GEN='fem'], [Tree(N[*CASE*='gen', GEN='fem'], ['Frau'])])])])]), Tree(VP[], [Tree(V[], ['schläft'])])])"
      ]
     },
     "metadata": {},
     "output_type": "display_data"
    }
   ],
   "source": [
    "for t in parser.parse(\"das Kind der Frau schläft\".split()):\n",
    "    display(t)"
   ]
  },
  {
   "cell_type": "markdown",
   "metadata": {},
   "source": [
    "Folgendes sollte leer sein:"
   ]
  },
  {
   "cell_type": "code",
   "execution_count": 10,
   "metadata": {},
   "outputs": [
    {
     "data": {
      "text/plain": [
       "[]"
      ]
     },
     "execution_count": 10,
     "metadata": {},
     "output_type": "execute_result"
    }
   ],
   "source": [
    "list(parser.parse(\"des Mannes schläft\".split()))"
   ]
  },
  {
   "cell_type": "markdown",
   "metadata": {},
   "source": [
    "Folgendes sollte wieder funktionieren. Betrachten Sie aufmerksam die Merkmale im Syntaxbaum."
   ]
  },
  {
   "cell_type": "code",
   "execution_count": 11,
   "metadata": {},
   "outputs": [
    {
     "data": {
      "image/png": "[encoded data removed]",
      "text/plain": [
       "Tree(S[], [Tree(NP[*CASE*='nom'], [Tree(DET[*CASE*='nom', GEN='mask'], ['der']), Tree(NOM[*CASE*='nongen', GEN='mask'], [Tree(N[*CASE*='nongen', GEN='mask'], ['Mann']), Tree(NP[*CASE*='gen'], [Tree(DET[*CASE*='gen', GEN='fem'], ['der']), Tree(NOM[*CASE*='gen', GEN='fem'], [Tree(N[*CASE*='gen', GEN='fem'], ['Frau'])])])])]), Tree(VP[], [Tree(V[], ['schläft'])])])"
      ]
     },
     "metadata": {},
     "output_type": "display_data"
    }
   ],
   "source": [
    "for t in parser.parse(\"der Mann der Frau schläft\".split()):\n",
    "    display(t)"
   ]
  },
  {
   "cell_type": "markdown",
   "metadata": {},
   "source": [
    "## Hausaufgaben\n",
    "### Aufgabe 3 &nbsp;&nbsp;&nbsp; Unifikation II\n",
    "Es seien wieder die Merkmalstrukturen aus Aufgabe 1 gegeben.\n",
    "\n",
    "Unifizieren Sie:\n",
    "- f1 mit f4"
   ]
  },
  {
   "cell_type": "code",
   "execution_count": null,
   "metadata": {
    "collapsed": true
   },
   "outputs": [],
   "source": [
    "print(f1.unify(f4).__repr__())"
   ]
  },
  {
   "cell_type": "markdown",
   "metadata": {},
   "source": [
    "- f2 mit f3"
   ]
  },
  {
   "cell_type": "code",
   "execution_count": null,
   "metadata": {
    "collapsed": true,
    "scrolled": true
   },
   "outputs": [],
   "source": [
    "print(f2.unify(f3).__repr__())"
   ]
  },
  {
   "cell_type": "markdown",
   "metadata": {},
   "source": [
    "### Aufgabe 4 &nbsp;&nbsp;&nbsp; Weniger Redundanz dank besonderer Merkmale\n",
    "Beseitigen Sie die Redundanz in den lexikalischen Regeln (Zeilen 8 - 32) der folgenden Grammatik durch eine Typhierarchie (wo dies nötig ist). Achten Sie darauf, die Menge der akzeptierten Sätze weder zu verkleinern noch zu vergrößern!\n",
    "\n",
    "Anzugeben sind die neuen Grammatikregeln, sowie Ihre Typhierarchie (z. B. in graphischer Form)."
   ]
  },
  {
   "cell_type": "code",
   "execution_count": null,
   "metadata": {
    "collapsed": true
   },
   "outputs": [],
   "source": [
    "redundant_grammar = \"\"\"\n",
    "S -> NP[KAS=nom] VP\n",
    "\n",
    "NP[KAS=?y] -> DET[GEN=?x,KAS=?y] NOM[GEN=?x,KAS=?y]\n",
    "NOM[GEN=?x,KAS=?y] -> N[GEN=?x,KAS=?y] NP[KAS=gen]\n",
    "NOM[GEN=?x,KAS=?y] -> N[GEN=?x,KAS=?y]\n",
    "\n",
    "DET[GEN=mask,KAS=nom] -> \"der\"\n",
    "DET[GEN=mask,KAS=gen] -> \"des\"\n",
    "DET[GEN=mask,KAS=dat] -> \"dem\"\n",
    "DET[GEN=mask,KAS=akk] -> \"den\"\n",
    "DET[GEN=fem,KAS=nom] -> \"die\"\n",
    "DET[GEN=fem,KAS=gen] -> \"der\"\n",
    "DET[GEN=fem,KAS=dat] -> \"der\"\n",
    "DET[GEN=fem,KAS=akk] -> \"die\"\n",
    "DET[GEN=neut,KAS=nom] -> \"das\"\n",
    "DET[GEN=neut,KAS=gen] -> \"des\"\n",
    "DET[GEN=neut,KAS=dat] -> \"dem\"\n",
    "DET[GEN=neut,KAS=akk] -> \"das\"\n",
    "\n",
    "N[GEN=mask,KAS=nom] -> \"Mann\"\n",
    "N[GEN=mask,KAS=gen] -> \"Mannes\"\n",
    "N[GEN=mask,KAS=dat] -> \"Mann\"\n",
    "N[GEN=mask,KAS=akk] -> \"Mann\"\n",
    "N[GEN=fem,KAS=nom] -> \"Frau\"\n",
    "N[GEN=fem,KAS=gen] -> \"Frau\"\n",
    "N[GEN=fem,KAS=dat] -> \"Frau\"\n",
    "N[GEN=fem,KAS=akk] -> \"Frau\"\n",
    "N[GEN=neut,KAS=nom] -> \"Buch\"\n",
    "N[GEN=neut,KAS=gen] -> \"Buches\"\n",
    "N[GEN=neut,KAS=dat] -> \"Buch\"\n",
    "N[GEN=neut,KAS=akk] -> \"Buch\"\n",
    "\n",
    "VP -> V NP[KAS=dat] NP[KAS=akk]\n",
    "V -> \"gibt\" | \"schenkt\"\n",
    "\"\"\""
   ]
  },
  {
   "cell_type": "code",
   "execution_count": null,
   "metadata": {
    "collapsed": true
   },
   "outputs": [],
   "source": [
    "pos_sentences = [\n",
    "    \"der Mann gibt der Frau das Buch\",\n",
    "    \"die Frau des Mannes gibt dem Mann der Frau das Buch des Buches\"\n",
    "]"
   ]
  },
  {
   "cell_type": "markdown",
   "metadata": {},
   "source": [
    "Testen Sie mit Ihren eigenen Negativbeispielen!"
   ]
  },
  {
   "cell_type": "code",
   "execution_count": null,
   "metadata": {
    "collapsed": true
   },
   "outputs": [],
   "source": [
    "neg_sentences = [\n",
    "    \n",
    "]"
   ]
  },
  {
   "cell_type": "code",
   "execution_count": null,
   "metadata": {
    "collapsed": true
   },
   "outputs": [],
   "source": [
    "def test_grammar(grammar, sentences):\n",
    "    cfg = nltk.grammar.FeatureGrammar.fromstring(grammar)\n",
    "    parser = nltk.parse.FeatureEarleyChartParser(cfg)\n",
    "    \n",
    "    for i, sent in enumerate(sentences, 1):\n",
    "        print(\"Satz {}: {}\".format(i, sent))\n",
    "        results = parser.parse(sent.split())\n",
    "        analyzed = False\n",
    "        for tree in results:\n",
    "            print(tree)  # oder display(tree)\n",
    "            analyzed = True\n",
    "        if not analyzed:\n",
    "            print(\"Keine Analyse möglich\", file=sys.stderr)"
   ]
  },
  {
   "cell_type": "code",
   "execution_count": null,
   "metadata": {
    "collapsed": true,
    "scrolled": false
   },
   "outputs": [],
   "source": [
    "test_grammar(redundant_grammar, pos_sentences)"
   ]
  }
 ],
 "metadata": {
  "kernelspec": {
   "display_name": "Python 3",
   "language": "python",
   "name": "python3"
  },
  "language_info": {
   "codemirror_mode": {
    "name": "ipython",
    "version": 3
   },
   "file_extension": ".py",
   "mimetype": "text/x-python",
   "name": "python",
   "nbconvert_exporter": "python",
   "pygments_lexer": "ipython3",
   "version": "3.6.1"
  }
 },
 "nbformat": 4,
 "nbformat_minor": 2
}
