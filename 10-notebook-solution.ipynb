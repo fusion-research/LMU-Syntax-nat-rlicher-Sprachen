{
 "cells": [
  {
   "cell_type": "markdown",
   "metadata": {},
   "source": [
    "# Übungsblatt 10\n",
    "## Präsenzaufgaben\n",
    "### Aufgabe 1 &nbsp;&nbsp;&nbsp; Herunterladen von Ressourcen\n",
    "Laden Sie sich zunächst die Ressource `corpora/treebank` über den NLTK Download-Manager herunter."
   ]
  },
  {
   "cell_type": "code",
   "execution_count": 1,
   "metadata": {},
   "outputs": [
    {
     "name": "stdout",
     "output_type": "stream",
     "text": [
      "showing info https://raw.githubusercontent.com/nltk/nltk_data/gh-pages/index.xml\n"
     ]
    },
    {
     "data": {
      "text/plain": [
       "True"
      ]
     },
     "execution_count": 1,
     "metadata": {},
     "output_type": "execute_result"
    }
   ],
   "source": [
    "import nltk\n",
    "nltk.download()"
   ]
  },
  {
   "cell_type": "markdown",
   "metadata": {},
   "source": [
    "### Aufgabe 2 &nbsp;&nbsp;&nbsp; Von Daten zu Regelwahrscheinlichkeiten\n",
    "Gegeben sei folgende kontextfreie Grammatik:"
   ]
  },
  {
   "cell_type": "code",
   "execution_count": 2,
   "metadata": {
    "collapsed": true
   },
   "outputs": [],
   "source": [
    "cfg = \"\"\"\n",
    "S -> NP VP\n",
    "VP -> V NP PP\n",
    "VP -> V NP\n",
    "NP -> DET N\n",
    "NP -> DET N PP\n",
    "PP -> P NP\n",
    "\n",
    "DET -> \"the\" | \"a\"\n",
    "N -> \"boy\" | \"woman\" | \"telescope\"\n",
    "V -> \"saw\"\n",
    "P -> \"with\"\n",
    "\"\"\""
   ]
  },
  {
   "cell_type": "markdown",
   "metadata": {},
   "source": [
    "Sie modelliert sehr einfache Sätze der Form `SBJ` *saw* `OBJ` mit optionaler Präpositionalphrase am Ende. Diese Präpositionalphrase kann entweder der näheren Bestimmung des Objekts oder der näheren Bestimmung der in der Verbalphrase ausgedrückten Handlung dienen.\n",
    "\n",
    "Im folgenden sollen aus der Penn Treebank Wahrscheinlichkeiten für die einzelnen Regeln extrahiert werden, um dieser Ambiguität Herr zu werden."
   ]
  },
  {
   "cell_type": "markdown",
   "metadata": {},
   "source": [
    "#### (a) Relevante Konstruktionen erkennen\n",
    "Nutzen das im NLTK enthaltene Sample der Penn Treebank (nach Installation unter `nltk.corpus.treebank` zu finden) zunächst zur Identifikation der für eine Disambiguierung nützlichen (Teil-)bäume der Penn Treebank.\n",
    "\n",
    "Gegebenfalls müssen Sie die obige Grammatik den Strukturen, die Sie finden, anpassen.\n",
    "\n",
    "*Hinweis:* Sie können sich bei der Analyse auf die jeweils 30 häufigsten Konstruktionen der Baumbank beschränken."
   ]
  },
  {
   "cell_type": "code",
   "execution_count": 3,
   "metadata": {
    "collapsed": true
   },
   "outputs": [],
   "source": [
    "from collections import defaultdict\n",
    "from nltk.corpus import treebank\n",
    "\n",
    "def find_relevant_constructions(lhs, only_with=None):\n",
    "    lhs_nt = nltk.grammar.Nonterminal(lhs)\n",
    "    should_filter = only_with is not None\n",
    "    if should_filter:\n",
    "        filter_by = list(map(nltk.grammar.Nonterminal, only_with))\n",
    "        def passes_filter(tup):\n",
    "            for f in filter_by:\n",
    "                if f not in tup:\n",
    "                    return False\n",
    "            return True\n",
    "\n",
    "    # iterate over all trees and all their productions\n",
    "    # and count those which pass the filter\n",
    "    counter = defaultdict(int)\n",
    "    for tree in treebank.parsed_sents():\n",
    "        for prod in tree.productions():\n",
    "            if prod.lhs() == lhs_nt:\n",
    "                # either we do not have to filter or the rhs has to pass the filter\n",
    "                if not should_filter or passes_filter(prod.rhs()):\n",
    "                    counter[prod.rhs()] += 1\n",
    "\n",
    "    # sort right sides of productions according to frequency\n",
    "    return [ (k, counter[k]) for k in sorted(counter.keys(), key=counter.__getitem__) ]"
   ]
  },
  {
   "cell_type": "code",
   "execution_count": 4,
   "metadata": {},
   "outputs": [
    {
     "data": {
      "text/plain": [
       "[((VB, NP, PP-DIR), 18),\n",
       " ((VBN, NP, NP-TMP), 18),\n",
       " ((VB, NP, SBAR-ADV), 20),\n",
       " ((VBG, NP, PP-LOC), 20),\n",
       " ((VB, NP, ADVP), 21),\n",
       " ((VBZ, NP, PP-CLR), 23),\n",
       " ((VBN, NP, ADVP-TMP), 24),\n",
       " ((VBD, NP, PP), 24),\n",
       " ((VB, NP, PP-LOC), 24),\n",
       " ((VBD, NP, PP-TMP), 24),\n",
       " ((VB, NP, ADVP-MNR), 25),\n",
       " ((VB, NP, PP-MNR), 26),\n",
       " ((VB, PRT, NP), 28),\n",
       " ((VBN, NP, NP), 28),\n",
       " ((VBN, NP, PP-LOC-CLR), 29),\n",
       " ((VB, NP, PP), 34),\n",
       " ((VB, NP, PP-TMP), 38),\n",
       " ((VBG, NP, PP-CLR), 48),\n",
       " ((VBN, NP, PP-TMP), 52),\n",
       " ((VBN, NP, PP-LOC), 59),\n",
       " ((VBD, NP, PP-CLR), 66),\n",
       " ((VB, NP, PP-CLR), 88),\n",
       " ((VBN, NP, PP), 170),\n",
       " ((VBN, NP, PP-CLR), 178),\n",
       " ((VBP, NP), 185),\n",
       " ((VBN, NP), 250),\n",
       " ((VBZ, NP), 261),\n",
       " ((VBG, NP), 375),\n",
       " ((VBD, NP), 378),\n",
       " ((VB, NP), 805)]"
      ]
     },
     "execution_count": 4,
     "metadata": {},
     "output_type": "execute_result"
    }
   ],
   "source": [
    "constructions = find_relevant_constructions('VP', only_with=[\"NP\"])\n",
    "constructions[-30:]"
   ]
  },
  {
   "cell_type": "markdown",
   "metadata": {},
   "source": [
    "Zählen Sie nun, wie oft die jeweiligen Konstruktionen in der Penn Treebank vorkommen und berechnen Sie die relativen Häufigkeiten als Approximation der Regelwahrscheinlichkeiten. Das Vorgehen wird in folgender Formel veranschaulicht:\n",
    "\n",
    "$$P(V, N\\!P, P\\!P \\mid V\\!P) = \\dfrac{count(V\\!P \\rightarrow V\\:N\\!P\\:P\\!P)}{count(V\\!P \\rightarrow \\setminus*)}$$"
   ]
  },
  {
   "cell_type": "code",
   "execution_count": 5,
   "metadata": {},
   "outputs": [
    {
     "data": {
      "text/plain": [
       "(0.09876049580167932,\n",
       " 0.9012395041983207,\n",
       " 0.5199619771863118,\n",
       " 0.48003802281368824,\n",
       " 0.6830175913396481,\n",
       " 0.3169824086603518)"
      ]
     },
     "execution_count": 5,
     "metadata": {},
     "output_type": "execute_result"
    }
   ],
   "source": [
    "# the following are numbers counted from iteratively executing the previous code cell\n",
    "# with different parameters for find_relevant_constructions\n",
    "vp_with_pp_frq = 170 + 34 + 24 + 11 + 4 + 4\n",
    "vp_without_frq = 805 + 378 + 375 + 261 + 250 + 185\n",
    "vp_with_pp = vp_with_pp_frq / (vp_with_pp_frq + vp_without_frq)\n",
    "vp_without = vp_without_frq / (vp_with_pp_frq + vp_without_frq)\n",
    "\n",
    "np_with_pp_frq = 2188\n",
    "np_without_frq = 2020\n",
    "np_with_pp = np_with_pp_frq / (np_with_pp_frq + np_without_frq)\n",
    "np_without = np_without_frq / (np_with_pp_frq + np_without_frq)\n",
    "\n",
    "det_the_frq = 4038\n",
    "det_a_frq = 1874\n",
    "det_the = det_the_frq / (det_the_frq + det_a_frq)\n",
    "det_a = det_a_frq / (det_the_frq + det_a_frq)\n",
    "\n",
    "(vp_with_pp, vp_without, np_with_pp, np_without, det_the, det_a)"
   ]
  },
  {
   "cell_type": "markdown",
   "metadata": {},
   "source": [
    "#### (b) Erstellen einer PCFG\n",
    "Die aus den Daten extrahierten relativen Häufigkeiten sollen nun zur Erstellung einer probabilistischen kontextfreien Grammatik (PCFG)  genutzt werden."
   ]
  },
  {
   "cell_type": "code",
   "execution_count": 6,
   "metadata": {
    "collapsed": true
   },
   "outputs": [],
   "source": [
    "# {} are placeholders that are filled by the .format method\n",
    "pcfg = \"\"\"\n",
    "S -> NP VP     [1.0]\n",
    "VP -> V NP PP  [{}]\n",
    "VP -> V NP     [{}]\n",
    "NP -> DET N    [{}]\n",
    "NP -> NP PP [{}]\n",
    "PP -> P NP     [1.0]\n",
    "\n",
    "DET -> \"the\"     [{}]\n",
    "DET -> \"a\"       [{}]\n",
    "N -> \"boy\"       [0.4]\n",
    "N -> \"woman\"     [0.4]\n",
    "N -> \"telescope\" [0.2]\n",
    "V -> \"saw\"       [1.0]\n",
    "P -> \"with\"      [1.0]\n",
    "\"\"\".format(\n",
    "    vp_with_pp, vp_without, np_without,\n",
    "    np_with_pp, det_the, det_a\n",
    ")\n",
    "grammar = nltk.PCFG.fromstring(pcfg)"
   ]
  },
  {
   "cell_type": "code",
   "execution_count": 7,
   "metadata": {},
   "outputs": [
    {
     "data": {
      "image/png": "[encoded data removed]",
      "text/plain": [
       "ProbabilisticTree('S', [ProbabilisticTree('NP', [ProbabilisticTree('DET', ['the']) (p=0.6830175913396481), ProbabilisticTree('N', ['boy']) (p=0.4)]) (p=0.13114976563746095), ProbabilisticTree('VP', [ProbabilisticTree('V', ['saw']) (p=1.0), ProbabilisticTree('NP', [ProbabilisticTree('NP', [ProbabilisticTree('DET', ['a']) (p=0.3169824086603518), ProbabilisticTree('N', ['woman']) (p=0.4)]) (p=0.06086544348801433), ProbabilisticTree('PP', [ProbabilisticTree('P', ['with']) (p=1.0), ProbabilisticTree('NP', [ProbabilisticTree('DET', ['a']) (p=0.3169824086603518), ProbabilisticTree('N', ['telescope']) (p=0.2)]) (p=0.030432721744007164)]) (p=0.030432721744007164)]) (p=0.0009631261451582643)]) (p=0.000868007329542874)]) (p=0.00011383895784114625)"
      ]
     },
     "metadata": {},
     "output_type": "display_data"
    }
   ],
   "source": [
    "from IPython.display import display\n",
    "\n",
    "parser = nltk.ViterbiParser(grammar)\n",
    "for tree in parser.parse(\"the boy saw a woman with a telescope\".split()):\n",
    "    display(tree)"
   ]
  },
  {
   "cell_type": "markdown",
   "metadata": {},
   "source": [
    "Wenn Sie sich die extrahierten Wahrscheinlichkeiten und das disambiguierte Ergebnis ansehen, überrascht Sie dann das Ergebnis der Syntaxanalyse?"
   ]
  },
  {
   "cell_type": "markdown",
   "metadata": {},
   "source": [
    "### Aufgabe 3 &nbsp;&nbsp;&nbsp; Weiterverarbeitung syntaktischer Analysen\n",
    "In dieser Aufgabe sollen Sie die Ausgaben eines state-of-the-art-Parsers, nämlich des Stanford Parsers, weiterverarbeiten.\n",
    "\n",
    "Mit dem Ziel, Sie erst einmal mit den typischen Strukturen einer solchen Aufgabe vertraut zu machen, sollen Sie in dieser Aufgabe lediglich entscheiden, ob die Eingabe einen Infinitivsatz mit Objekt enthält.\n",
    "\n",
    "Zur Klarheit betrachten Sie die folgenden positiven und negativen Beispiele:"
   ]
  },
  {
   "cell_type": "code",
   "execution_count": 8,
   "metadata": {
    "collapsed": true
   },
   "outputs": [],
   "source": [
    "pos_examples = [\n",
    "    \"Er beabsichtigt , den Kuchen ganz alleine zu essen .\",\n",
    "    \"Er behauptet , ihn gesehen zu haben .\"\n",
    "]\n",
    "neg_examples = [\n",
    "    \"Er glaubt , nach Hause zu fliegen .\",\n",
    "    \"Zu fliegen ist schön .\",\n",
    "    \"Er will gehen .\"\n",
    "]"
   ]
  },
  {
   "cell_type": "markdown",
   "metadata": {},
   "source": [
    "Zur Erinnerung die wichtigsten Schritte zur Nutzung des Stanford Parsers im NLTK:\n",
    "\n",
    "Initialisierung:"
   ]
  },
  {
   "cell_type": "code",
   "execution_count": 9,
   "metadata": {
    "collapsed": true
   },
   "outputs": [],
   "source": [
    "from nltk.parse.stanford import StanfordParser\n",
    "\n",
    "PATH_TO_CORE = r\"/pfad/zu/stanford-corenlp-full-2017-06-09\"\n",
    "PATH_TO_GERMAN_MODEL = r\"/pfad/zu/deutschem/modell\"\n",
    "jar = PATH_TO_CORE + '/' + \"stanford-corenlp-3.8.0.jar\"\n",
    "model = PATH_TO_GERMAN_MODEL + '/' + \"stanford-german-corenlp-2017-06-09-models.jar\""
   ]
  },
  {
   "cell_type": "markdown",
   "metadata": {},
   "source": [
    "Parser-Erstellung:"
   ]
  },
  {
   "cell_type": "code",
   "execution_count": 10,
   "metadata": {
    "collapsed": true
   },
   "outputs": [],
   "source": [
    "parser = StanfordParser(\n",
    "    jar, model,\n",
    "    model_path=\"edu/stanford/nlp/models/lexparser/germanPCFG.ser.gz\"\n",
    ")"
   ]
  },
  {
   "cell_type": "markdown",
   "metadata": {},
   "source": [
    "Parsen:"
   ]
  },
  {
   "cell_type": "code",
   "execution_count": 11,
   "metadata": {},
   "outputs": [
    {
     "name": "stdout",
     "output_type": "stream",
     "text": [
      "                               ROOT                                      \n",
      "                                │                                         \n",
      "                                S                                        \n",
      " ┌────────┬────────┬────────────┴─────┬────────────────────────────────┐  \n",
      " │        │        │                  VP                               │ \n",
      " │        │        │       ┌──────────┴────┬─────────────────┐         │  \n",
      " │        │        │       NP             AVP                VZ        │ \n",
      " │        │        │   ┌───┴────┐     ┌────┴─────┐      ┌────┴────┐    │  \n",
      "PPER    VVFIN      $, ART       NN   ADV        ADV   PTKZU     VVINF  $.\n",
      " │        │        │   │        │     │          │      │         │    │  \n",
      " Er  beabsichtigt  ,  den     Kuchen ganz     alleine   zu      essen  . \n",
      "\n",
      "                   ROOT                                    \n",
      "                    │                                       \n",
      "                    S                                      \n",
      " ┌───────┬──────┬───┴────────────────┬───────────────────┐  \n",
      " │       │      │                    VP                  │ \n",
      " │       │      │        ┌───────────┴─────────┐         │  \n",
      " │       │      │        VP                    │         │ \n",
      " │       │      │   ┌────┴─────┐               │         │  \n",
      " │       │      │   NP         │               VZ        │ \n",
      " │       │      │   │          │          ┌────┴────┐    │  \n",
      "PPER   VVFIN    $, PPER       VVPP      PTKZU     VAINF  $.\n",
      " │       │      │   │          │          │         │    │  \n",
      " Er  behauptet  ,  ihn      gesehen       zu      haben  . \n",
      "\n",
      "                ROOT                                    \n",
      "                 │                                       \n",
      "                 S                                      \n",
      " ┌─────┬─────┬───┴──────────────┬─────────────────────┐  \n",
      " │     │     │                  VP                    │ \n",
      " │     │     │        ┌─────────┴─────────┐           │  \n",
      " │     │     │        PP                  VZ          │ \n",
      " │     │     │   ┌────┴────┐         ┌────┴─────┐     │  \n",
      "PPER VVFIN   $, APPR       NN      PTKZU      VVINF   $.\n",
      " │     │     │   │         │         │          │     │  \n",
      " Er  glaubt  ,  nach     Hause       zu      fliegen  . \n",
      "\n",
      "                   ROOT          \n",
      "                    │             \n",
      "                    S            \n",
      "       ┌────────────┼─────┬────┐  \n",
      "       VZ           │     │    │ \n",
      "  ┌────┴─────┐      │     │    │  \n",
      "PTKZU      VVINF  VAFIN  ADJD  $.\n",
      "  │          │      │     │    │  \n",
      "  Zu      fliegen  ist  schön  . \n",
      "\n",
      "      ROOT          \n",
      "       │             \n",
      "       S            \n",
      " ┌─────┼─────┬────┐  \n",
      " │     │     VP   │ \n",
      " │     │     │    │  \n",
      "PPER VMFIN VVINF  $.\n",
      " │     │     │    │  \n",
      " Er   will gehen  . \n",
      "\n"
     ]
    }
   ],
   "source": [
    "for sentence in pos_examples + neg_examples:\n",
    "    tree_list = list(parser.raw_parse(sentence))\n",
    "    tree_list[0].pretty_print(unicodelines=True)"
   ]
  },
  {
   "cell_type": "code",
   "execution_count": 12,
   "metadata": {
    "collapsed": true
   },
   "outputs": [],
   "source": [
    "def classify(sentence):\n",
    "    tree = list(parser.raw_parse(sentence))[0]\n",
    "    # find all the subtrees that are labeled as 'VP'\n",
    "    for vp in tree.subtrees(filter=lambda t: t.label() == 'VP'):\n",
    "        # can we find a subtree in the VP that is an infinitiv ?\n",
    "        has_infs = list(vp.subtrees(filter=lambda t: t.label().endswith(\"INF\")))\n",
    "        # can we find a subtree in the VP that is an NP ?\n",
    "        has_nps = list(vp.subtrees(filter=lambda t: t.label() == 'NP'))\n",
    "        # if we have found both: we have a hit !\n",
    "        if has_infs and has_nps:\n",
    "            return True\n",
    "    # obviously we did not find anything !\n",
    "    return False"
   ]
  },
  {
   "cell_type": "markdown",
   "metadata": {},
   "source": [
    "Die Ausgabe sollte sein:\n",
    "\n",
    "`True\n",
    "True\n",
    "False\n",
    "False\n",
    "False`"
   ]
  },
  {
   "cell_type": "code",
   "execution_count": 13,
   "metadata": {},
   "outputs": [
    {
     "name": "stdout",
     "output_type": "stream",
     "text": [
      "True\n",
      "True\n",
      "False\n",
      "False\n",
      "False\n"
     ]
    }
   ],
   "source": [
    "for p in pos_examples:\n",
    "    print(classify(p))\n",
    "for n in neg_examples:\n",
    "    print(classify(n))"
   ]
  }
 ],
 "metadata": {
  "kernelspec": {
   "display_name": "Python 3",
   "language": "python",
   "name": "python3"
  },
  "language_info": {
   "codemirror_mode": {
    "name": "ipython",
    "version": 3
   },
   "file_extension": ".py",
   "mimetype": "text/x-python",
   "name": "python",
   "nbconvert_exporter": "python",
   "pygments_lexer": "ipython3",
   "version": "3.6.1"
  }
 },
 "nbformat": 4,
 "nbformat_minor": 2
}
