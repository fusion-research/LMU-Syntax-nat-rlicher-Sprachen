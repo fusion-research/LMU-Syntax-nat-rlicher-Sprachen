{
 "cells": [
  {
   "cell_type": "markdown",
   "metadata": {},
   "source": [
    "# Übungsblatt 8\n",
    "## Hausaufgaben\n",
    "### Aufgabe 3 &nbsp;&nbsp;&nbsp; \n",
    "Betrachten Sie die folgende kontextfreie Merkmalsgrammatik:"
   ]
  },
  {
   "cell_type": "code",
   "execution_count": 1,
   "metadata": {
    "collapsed": true
   },
   "outputs": [],
   "source": [
    "grammar = \"\"\"\n",
    "S -> NP VP\n",
    "S -> VP\n",
    "\n",
    "NP -> DET N\n",
    "VP -> V[SUBCAT=tr] NP\n",
    "VP -> V[SUBCAT=intr]\n",
    "\n",
    "DET -> \"das\"\n",
    "N -> \"Kind\" | \"Buch\"\n",
    "\n",
    "V[SUBCAT=tr] -> \"lies\"\n",
    "V[SUBCAT=tr] -> \"liest\"\n",
    "V[SUBCAT=intr] -> \"schlaf\"\n",
    "V[SUBCAT=intr] -> \"schläft\"\n",
    "\"\"\""
   ]
  },
  {
   "cell_type": "markdown",
   "metadata": {},
   "source": [
    "Hier wurde versucht, Aufforderungssätze zu modellieren. Allerdings akzeptiert diese Grammatik immer noch viele ungrammatische Sätze.\n",
    "\n",
    "- Fügen Sie ein Merkmal `MOOD` mit den möglichen Werten `imp` und `ind` für Imperativ und Indikativ hinzu und deklarieren Sie die entsprechenden Werte im Lexikon (den lexikalischen Regeln).\n",
    "- Formulieren Sie dann Bedingungen in den syntaktischen Regeln, sodass folgende grammatische Sätze (`pos_sentences`) weiterhin akzeptiert und folgende ungrammatische Sätze (`neg_sentences`) abgelehnt werden."
   ]
  },
  {
   "cell_type": "code",
   "execution_count": 2,
   "metadata": {
    "collapsed": true
   },
   "outputs": [],
   "source": [
    "pos_sentences = [\n",
    "    \"das Kind schläft\",\n",
    "    \"das Kind liest das Buch\",\n",
    "    \"lies das Buch\",\n",
    "    \"schlaf\"\n",
    "]\n",
    "\n",
    "neg_sentences = [\n",
    "    \"das Kind schlaf\",\n",
    "    \"das Kind lies das Buch\",\n",
    "    \"liest das Buch\",\n",
    "    \"schläft\"\n",
    "]"
   ]
  },
  {
   "cell_type": "code",
   "execution_count": 3,
   "metadata": {
    "collapsed": true
   },
   "outputs": [],
   "source": [
    "import nltk\n",
    "from IPython.display import display\n",
    "import sys\n",
    "\n",
    "def test_grammar(grammar, sentences):\n",
    "    cfg = nltk.grammar.FeatureGrammar.fromstring(grammar)\n",
    "    parser = nltk.parse.FeatureEarleyChartParser(cfg)\n",
    "    \n",
    "    for i, sent in enumerate(sentences, 1):\n",
    "        print(\"Satz {}: {}\".format(i, sent))\n",
    "        sys.stdout.flush()\n",
    "        results = parser.parse(sent.split())\n",
    "        analyzed = False\n",
    "        for tree in results:\n",
    "            display(tree)  # tree.draw() oder print(tree)\n",
    "            analyzed = True\n",
    "        if not analyzed:\n",
    "            print(\"Keine Analyse möglich\", file=sys.stderr)\n",
    "            sys.stderr.flush()"
   ]
  },
  {
   "cell_type": "markdown",
   "metadata": {},
   "source": [
    "Hier sollten nur korrekte Syntaxbäume herauskommen:"
   ]
  },
  {
   "cell_type": "code",
   "execution_count": null,
   "metadata": {
    "collapsed": true
   },
   "outputs": [],
   "source": [
    "test_grammar(grammar, pos_sentences)"
   ]
  },
  {
   "cell_type": "markdown",
   "metadata": {},
   "source": [
    "Hier sollte ausschließlich `Keine Analyse möglich` stehen:"
   ]
  },
  {
   "cell_type": "code",
   "execution_count": null,
   "metadata": {
    "collapsed": true
   },
   "outputs": [],
   "source": [
    "test_grammar(grammar, neg_sentences)"
   ]
  }
 ],
 "metadata": {
  "kernelspec": {
   "display_name": "Python 3",
   "language": "python",
   "name": "python3"
  },
  "language_info": {
   "codemirror_mode": {
    "name": "ipython",
    "version": 3
   },
   "file_extension": ".py",
   "mimetype": "text/x-python",
   "name": "python",
   "nbconvert_exporter": "python",
   "pygments_lexer": "ipython3",
   "version": "3.4.6"
  }
 },
 "nbformat": 4,
 "nbformat_minor": 2
}
