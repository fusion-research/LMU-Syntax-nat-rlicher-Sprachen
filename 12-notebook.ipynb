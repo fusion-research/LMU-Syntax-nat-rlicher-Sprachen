{
 "cells": [
  {
   "cell_type": "markdown",
   "metadata": {},
   "source": [
    "# Übungsblatt 12\n",
    "## Präsenzaufgaben\n",
    "### Aufgabe 1 &nbsp;&nbsp;&nbsp; Evaluationsmetriken"
   ]
  },
  {
   "cell_type": "code",
   "execution_count": 1,
   "metadata": {
    "collapsed": true
   },
   "outputs": [],
   "source": [
    "from sklearn.metrics import accuracy_score, precision_score,\\\n",
    "    recall_score, f1_score"
   ]
  },
  {
   "cell_type": "markdown",
   "metadata": {},
   "source": [
    "Betrachten Sie folgende Daten. Es handelt sich um ein vereinfachtes Tagging-Schema fürs Chunking, bei dem nur zwischen „Teil einer NP“ (`1`) und „nicht Teil einer NP“ (`0`) unterschieden wird."
   ]
  },
  {
   "cell_type": "code",
   "execution_count": 2,
   "metadata": {
    "collapsed": true
   },
   "outputs": [],
   "source": [
    "ground_truth = [1,0,1,0,0,1,1,1,1,0]\n",
    "chunker1     = [1,1,1,0,1,0,1,1,1,1]\n",
    "chunker2     = [1,0,1,0,0,0,0,0,1,0]\n",
    "chunker3     = [0,0,0,0,0,1,1,1,1,0]"
   ]
  },
  {
   "cell_type": "markdown",
   "metadata": {},
   "source": [
    "Berechnen Sie für jeden der Chunker Accuracy, Precision, Recall und F1-Score zunächst per Hand und überprüfen Sie dann Ihr Ergebnis."
   ]
  },
  {
   "cell_type": "code",
   "execution_count": 3,
   "metadata": {
    "collapsed": true
   },
   "outputs": [],
   "source": [
    "def evaluate(chunker):\n",
    "    print(\n",
    "        \"Accuracy:\",\n",
    "        \"{:.2f}\".format(accuracy_score(ground_truth, chunker))\n",
    "    )\n",
    "    print(\n",
    "        \"Precision:\",\n",
    "        \"{:.2f}\".format(precision_score(ground_truth, chunker))\n",
    "    )\n",
    "    print(\n",
    "        \"Recall:\",\n",
    "        \"{:.2f}\".format(recall_score(ground_truth, chunker))\n",
    "    )\n",
    "    print(\n",
    "        \"F1-Score:\",\n",
    "        \"{:.2f}\".format(f1_score(ground_truth, chunker))\n",
    "    )"
   ]
  },
  {
   "cell_type": "code",
   "execution_count": null,
   "metadata": {
    "collapsed": true
   },
   "outputs": [],
   "source": [
    "evaluate(chunker1)"
   ]
  },
  {
   "cell_type": "code",
   "execution_count": null,
   "metadata": {
    "collapsed": true
   },
   "outputs": [],
   "source": [
    "evaluate(chunker2)"
   ]
  },
  {
   "cell_type": "code",
   "execution_count": null,
   "metadata": {
    "collapsed": true
   },
   "outputs": [],
   "source": [
    "evaluate(chunker3)"
   ]
  },
  {
   "cell_type": "markdown",
   "metadata": {},
   "source": [
    "### Aufgabe 2 &nbsp;&nbsp;&nbsp; Herunterladen von Ressourcen\n",
    "\n",
    "Das CoNLL 2000 Korpus ist ein POS- und Chunk-getaggtes Korpus (IOB- Format), das\n",
    "in ein Test- und ein Trainingskorpus aufgeteilt ist. Wir werden es zum Training und zur\n",
    "Evaluation von Chunk-Parsern verwenden. Laden Sie es sich dafür zunächst über die\n",
    "Ressource `corpora/conll2000` herunter."
   ]
  },
  {
   "cell_type": "code",
   "execution_count": 4,
   "metadata": {},
   "outputs": [
    {
     "name": "stdout",
     "output_type": "stream",
     "text": [
      "showing info https://raw.githubusercontent.com/nltk/nltk_data/gh-pages/index.xml\n"
     ]
    },
    {
     "data": {
      "text/plain": [
       "True"
      ]
     },
     "execution_count": 4,
     "metadata": {},
     "output_type": "execute_result"
    }
   ],
   "source": [
    "import nltk\n",
    "nltk.download()"
   ]
  },
  {
   "cell_type": "markdown",
   "metadata": {},
   "source": [
    "Wenn Sie es erfolgreich heruntergeladen haben, können Sie folgendermaßen darauf zugrei-\n",
    "fen:"
   ]
  },
  {
   "cell_type": "code",
   "execution_count": 5,
   "metadata": {
    "scrolled": false
   },
   "outputs": [
    {
     "data": {
      "image/png": "[encoded data removed]",
      "text/plain": [
       "Tree('S', [('Over', 'IN'), Tree('NP', [('a', 'DT'), ('cup', 'NN')]), ('of', 'IN'), Tree('NP', [('coffee', 'NN')]), (',', ','), Tree('NP', [('Mr.', 'NNP'), ('Stone', 'NNP')]), ('told', 'VBD'), Tree('NP', [('his', 'PRP$'), ('story', 'NN')]), ('.', '.')])"
      ]
     },
     "execution_count": 5,
     "metadata": {},
     "output_type": "execute_result"
    }
   ],
   "source": [
    "from nltk.corpus import conll2000\n",
    "conll2000.chunked_sents('train.txt', chunk_types=['NP'])[99]"
   ]
  },
  {
   "cell_type": "markdown",
   "metadata": {},
   "source": [
    "Das `chunk_types`-Argument dient der Auwahl von Chunk-Typen (in diesem Beispiel\n",
    "Nominalphrasen)."
   ]
  },
  {
   "cell_type": "markdown",
   "metadata": {},
   "source": [
    "### Aufgabe 3 &nbsp;&nbsp;&nbsp; Chunking mit regulären Ausdrücken\n",
    "\n",
    "Erstellen Sie einen einfachen `RegexpParser`, der für Nominalphrasen charakteristische\n",
    "Tags zu NPs zusammenfasst. Solche charakteristischen Tags sind z.B. Kardinalzahlen (`CD`),\n",
    "Artikel (`DT`), Adjektive (`JJ`, `JJR`, `JJS`) und natürlich Substantive (`NN`, `NNS`, `NNP`, `NNPS`).\n",
    "\n",
    "Weitere interessante Tags wären `PDT` (z.B. *both*, *a lot of*), `POS` (*'s*), `PRP` (Personalpronomen), `PRP$` (Possessivpronomen)."
   ]
  },
  {
   "cell_type": "code",
   "execution_count": 6,
   "metadata": {
    "collapsed": true
   },
   "outputs": [],
   "source": [
    "regex = r\"\""
   ]
  },
  {
   "cell_type": "markdown",
   "metadata": {},
   "source": [
    "Evaluieren Sie Ihren Parser anschließend auf dem CoNLL 2000 Korpus:"
   ]
  },
  {
   "cell_type": "code",
   "execution_count": 7,
   "metadata": {},
   "outputs": [
    {
     "name": "stdout",
     "output_type": "stream",
     "text": [
      "ChunkParse score:\n",
      "    IOB Accuracy:  43.4%%\n",
      "    Precision:      0.0%%\n",
      "    Recall:         0.0%%\n",
      "    F-Measure:      0.0%%\n"
     ]
    }
   ],
   "source": [
    "test_sents = conll2000.chunked_sents('test.txt', chunk_types=['NP'])\n",
    "cp = nltk.RegexpParser(regex)\n",
    "print(cp.evaluate(test_sents))"
   ]
  },
  {
   "cell_type": "markdown",
   "metadata": {},
   "source": [
    "### Aufgabe 4 &nbsp;&nbsp;&nbsp; Datenbasiertes Chunking\n",
    "\n",
    "(a) Betrachten Sie den folgenden Code für einen Chunker, der für jedes POS-Tag das\n",
    "wahrscheinlichste Chunk-Tag berechnet (Training) und dieses dann zur Testzeit\n",
    "ausgibt."
   ]
  },
  {
   "cell_type": "code",
   "execution_count": 8,
   "metadata": {
    "collapsed": true
   },
   "outputs": [],
   "source": [
    "class UnigramChunker(nltk.ChunkParserI):\n",
    "    def __init__(self, train_sents):\n",
    "        train_data = [\n",
    "            [\n",
    "                (t,c)\n",
    "                for w,t,c in nltk.chunk.tree2conlltags(sent)\n",
    "            ]\n",
    "            for sent in train_sents\n",
    "        ]\n",
    "        self.tagger = nltk.UnigramTagger(train_data)\n",
    "\n",
    "    def parse(self, sentence):\n",
    "        pos_tags = [pos for (word,pos) in sentence]\n",
    "        tagged_pos_tags = self.tagger.tag(pos_tags)\n",
    "        chunktags = [\n",
    "            chunktag for (pos, chunktag) in tagged_pos_tags\n",
    "        ]\n",
    "        conlltags = [\n",
    "            (word, pos, chunktag)\n",
    "            for ((word, pos), chunktag)\n",
    "            in zip(sentence, chunktags)\n",
    "        ]\n",
    "        return nltk.chunk.conlltags2tree(conlltags)"
   ]
  },
  {
   "cell_type": "markdown",
   "metadata": {},
   "source": [
    "Trainieren und evaluieren Sie den UnigramChunker auf dem CoNLL 2000 Korpus."
   ]
  },
  {
   "cell_type": "code",
   "execution_count": 9,
   "metadata": {
    "collapsed": true,
    "scrolled": true
   },
   "outputs": [],
   "source": [
    "train_sents = conll2000.chunked_sents('train.txt', chunk_types=['NP'])\n",
    "# uc = ..."
   ]
  },
  {
   "cell_type": "markdown",
   "metadata": {},
   "source": [
    "Um uns einen Überblick darüber zu verschaffen, was der Chunker gelernt hat, können wir ihn für jedes mögliche POS-Tag eine Vorhersage treffen lassen:"
   ]
  },
  {
   "cell_type": "code",
   "execution_count": 10,
   "metadata": {
    "collapsed": true
   },
   "outputs": [],
   "source": [
    "postags = sorted(set(pos for sent in train_sents for (word,pos) in sent.leaves()))\n",
    "# uc.tagger.tag(postags)"
   ]
  },
  {
   "cell_type": "markdown",
   "metadata": {},
   "source": [
    "(b) Der `ConsecutiveNPChunker`, dessen Code Sie in der nächsten Zelle sehen, basiert auf einem Klassifikator."
   ]
  },
  {
   "cell_type": "code",
   "execution_count": 11,
   "metadata": {
    "collapsed": true
   },
   "outputs": [],
   "source": [
    "class ConsecutiveNPChunkTagger(nltk.TaggerI):\n",
    "\n",
    "    def __init__(self, train_sents, npchunk_features):\n",
    "        self.extract_features = npchunk_features\n",
    "        train_set = []\n",
    "        for tagged_sent in train_sents:\n",
    "            untagged_sent = nltk.tag.untag(tagged_sent)\n",
    "            history = []\n",
    "            for i, (word, tag) in enumerate(tagged_sent):\n",
    "                featureset = npchunk_features(untagged_sent, i, history)\n",
    "                train_set.append( (featureset, tag) )\n",
    "                history.append(tag)\n",
    "        self.classifier = nltk.NaiveBayesClassifier.train(train_set)\n",
    "\n",
    "    def tag(self, sentence):\n",
    "        history = []\n",
    "        for i, word in enumerate(sentence):\n",
    "            featureset = self.extract_features(sentence, i, history)\n",
    "            tag = self.classifier.classify(featureset)\n",
    "            history.append(tag)\n",
    "        return zip(sentence, history)\n",
    "\n",
    "class ConsecutiveNPChunker(nltk.ChunkParserI):\n",
    "    def __init__(self, train_sents, npchunk_features):\n",
    "        tagged_sents = [[((w,t),c) for (w,t,c) in\n",
    "                         nltk.chunk.tree2conlltags(sent)]\n",
    "                        for sent in train_sents]\n",
    "        self.tagger = ConsecutiveNPChunkTagger(tagged_sents, npchunk_features)\n",
    "\n",
    "    def parse(self, sentence):\n",
    "        tagged_sents = self.tagger.tag(sentence)\n",
    "        conlltags = [(w,t,c) for ((w,t),c) in tagged_sents]\n",
    "        return nltk.chunk.conlltags2tree(conlltags)"
   ]
  },
  {
   "cell_type": "markdown",
   "metadata": {},
   "source": [
    "Dies erlaubt uns, die Features, die für die Klassifikation extrahiert werden, genauer zu bestimmen.\n",
    "\n",
    "Ein Feature-Extraktor lässt sich als Funktion z.B. so definieren:"
   ]
  },
  {
   "cell_type": "code",
   "execution_count": 12,
   "metadata": {
    "collapsed": true
   },
   "outputs": [],
   "source": [
    "def pos_feature(sentence , i, history):\n",
    "    word, pos = sentence[i]\n",
    "    return {\"pos\": pos}"
   ]
  },
  {
   "cell_type": "markdown",
   "metadata": {},
   "source": [
    "Dieser Feature-Extraktor extrahiert genau ein Feature, nämlich das POS-Tag, das\n",
    "auch der UnigramChunker verwendet hat.\n",
    "\n",
    "Evaluieren Sie den `ConsecutiveNPChunker` mit diesem Feature-Extraktor und vergleichen Sie seine Performanz mit der des `UnigramChunker`s."
   ]
  },
  {
   "cell_type": "code",
   "execution_count": 13,
   "metadata": {
    "collapsed": true
   },
   "outputs": [],
   "source": [
    "chunker = ConsecutiveNPChunker(train_sents, pos_feature)\n",
    "# TODO: code for evaluation"
   ]
  },
  {
   "cell_type": "markdown",
   "metadata": {},
   "source": [
    "(c) Fügen Sie weitere Features für\n",
    "- das aktuelle Wort,\n",
    "- das vorhergehende POS-Tag und\n",
    "- das vorhergehende Chunk-Tag\n",
    "\n",
    "zur Extraktion hinzu und beobachten Sie jeweils die Auswirkungen auf die Performanz in der Evaluation."
   ]
  },
  {
   "cell_type": "code",
   "execution_count": 14,
   "metadata": {
    "collapsed": true
   },
   "outputs": [],
   "source": [
    "def word_feature(sentence, i, history):\n",
    "    word, pos = sentence[i]\n",
    "    return {\"pos\": pos}\n",
    "\n",
    "def previous_pos(sentence, i, history):\n",
    "    word, pos = sentence[i]\n",
    "    return {\"pos\": pos}\n",
    "\n",
    "def previous_chunk(sentence, i, history):\n",
    "    word, pos = sentence[i]\n",
    "    return {\"pos\": pos}"
   ]
  },
  {
   "cell_type": "code",
   "execution_count": null,
   "metadata": {},
   "outputs": [],
   "source": [
    "chunker = ConsecutiveNPChunker(train_sents, word_feature)\n",
    "print(chunker.evaluate(test_sents))"
   ]
  },
  {
   "cell_type": "code",
   "execution_count": null,
   "metadata": {
    "collapsed": true
   },
   "outputs": [],
   "source": [
    "chunker = ConsecutiveNPChunker(train_sents, previous_pos)\n",
    "print(chunker.evaluate(test_sents))"
   ]
  },
  {
   "cell_type": "code",
   "execution_count": null,
   "metadata": {
    "collapsed": true
   },
   "outputs": [],
   "source": [
    "chunker = ConsecutiveNPChunker(train_sents, previous_chunk)\n",
    "print(chunker.evaluate(test_sents))"
   ]
  },
  {
   "cell_type": "markdown",
   "metadata": {},
   "source": [
    "## Hausaufgaben\n",
    "### Aufgabe 5 &nbsp;&nbsp;&nbsp; Feature Engineering\n",
    "Anschließend an Aufgabe 4 sollen Sie hier weitere Features implementieren und jeweils deren Auswirkungen auf die Performanz beobachten.\n",
    "\n",
    "Fügen Sie von oben nach unten immer jeweils ein neues Feature nach dem anderen hinzu\n",
    "und behalten Sie alle bisherigen Features bei. Dann notieren Sie jeweils den Performanz-\n",
    "gewinn (oder -verlust) im Vergleich zur vorherigen Zeile in untenstehender Tabelle.\n",
    "Fügen Sie außerdem noch zwei neue Features an das Ende der Tabelle, die Sie sich selbst\n",
    "ausdenken!\n",
    "\n",
    "Zum Schluss können Sie auch eine sogenannte ablation study durchführen. Dabei wird\n",
    "immer genau eines der Features entfernt, um anhand des Performanzverlustes dessen\n",
    "Beitrag zum Ergebnis zu bemessen."
   ]
  },
  {
   "cell_type": "markdown",
   "metadata": {},
   "source": [
    "| Neues Feature                                                   | Performanzgewinn (F1) | Ablation Study |\n",
    "|-----------------------------------------------------------------|-----------------------|----------------|\n",
    "| Lookahead: nächstes POS-Tag                                     |                       |                |\n",
    "| Paar-Feature: vorhergehendes und aktuelles POS-Tag konkateniert |                       |                |\n",
    "| Paar-Feature: aktuelles und nächstes POS-Tag konkateniert       |                       |                |\n",
    "| Lookahead: nächstes Wort                                        |                       |                |\n",
    "| (Sortierte) Menge aller POS-Tags seit dem Artikel (`DT`)        |                       |                |\n",
    "|                                                                 |                       |                |\n",
    "|                                                                 |                       |                |"
   ]
  },
  {
   "cell_type": "code",
   "execution_count": null,
   "metadata": {
    "collapsed": true
   },
   "outputs": [],
   "source": [
    "def next_pos(sentence, i, history):\n",
    "    word, pos = sentence[i]\n",
    "    return {\n",
    "        \"pos\": pos\n",
    "    }\n",
    "\n",
    "def prevcur_pos(sentence, i, history):\n",
    "    word, pos = sentence[i]\n",
    "    return {\n",
    "        \"pos\": pos\n",
    "    }\n",
    "\n",
    "def curnext_pos(sentence, i, history):\n",
    "    word, pos = sentence[i]\n",
    "    return {\n",
    "        \"pos\": pos\n",
    "    }\n",
    "\n",
    "def next_word(sentence, i, history):\n",
    "    word, pos = sentence[i]\n",
    "    return {\n",
    "        \"pos\": pos\n",
    "    }\n",
    "\n",
    "def tags_since_dt(sentence, i, history):\n",
    "    def tags_since_dt_helper(sentence, i):\n",
    "        tags = set()\n",
    "        return '+'.join(sorted(tags))\n",
    "    \n",
    "    word, pos = sentence[i]\n",
    "    return {\n",
    "        \"pos\": pos,\n",
    "        \"tags-since-dt\": tags_since_dt_helper(sentence, i)\n",
    "    }"
   ]
  },
  {
   "cell_type": "markdown",
   "metadata": {},
   "source": [
    "#### Features schrittweise hinzufügen"
   ]
  },
  {
   "cell_type": "code",
   "execution_count": null,
   "metadata": {
    "collapsed": true
   },
   "outputs": [],
   "source": [
    "chunker = ConsecutiveNPChunker(train_sents, next_pos)\n",
    "print(chunker.evaluate(test_sents))"
   ]
  },
  {
   "cell_type": "code",
   "execution_count": null,
   "metadata": {
    "collapsed": true
   },
   "outputs": [],
   "source": [
    "chunker = ConsecutiveNPChunker(train_sents, prevcur_pos)\n",
    "print(chunker.evaluate(test_sents))"
   ]
  },
  {
   "cell_type": "code",
   "execution_count": null,
   "metadata": {
    "collapsed": true
   },
   "outputs": [],
   "source": [
    "chunker = ConsecutiveNPChunker(train_sents, curnext_pos)\n",
    "print(chunker.evaluate(test_sents))"
   ]
  },
  {
   "cell_type": "code",
   "execution_count": null,
   "metadata": {
    "collapsed": true
   },
   "outputs": [],
   "source": [
    "chunker = ConsecutiveNPChunker(train_sents, next_word)\n",
    "print(chunker.evaluate(test_sents))"
   ]
  },
  {
   "cell_type": "code",
   "execution_count": null,
   "metadata": {
    "collapsed": true
   },
   "outputs": [],
   "source": [
    "chunker = ConsecutiveNPChunker(train_sents, tags_since_dt)\n",
    "print(chunker.evaluate(test_sents))"
   ]
  },
  {
   "cell_type": "markdown",
   "metadata": {},
   "source": [
    "#### Ablation Study"
   ]
  },
  {
   "cell_type": "code",
   "execution_count": null,
   "metadata": {
    "collapsed": true
   },
   "outputs": [],
   "source": [
    "def ablate(feat_extr, feat_name):\n",
    "    def ablated_feat_extr(sentence, i, history):\n",
    "        feat_dict = feat_extr(sentence, i, history)\n",
    "        feat_dict.pop(feat_name, None)\n",
    "        return feat_dict\n",
    "    return ablated_feat_extr"
   ]
  },
  {
   "cell_type": "code",
   "execution_count": null,
   "metadata": {
    "collapsed": true
   },
   "outputs": [],
   "source": [
    "# in diese Liste sind die Namen der Features einzutragen, die oben jeweils vergeben wurden\n",
    "for feat_name in []:\n",
    "    print(\"Ablated Feature:\", feat_name)\n",
    "    feature_extractor = ablate(tags_since_dt, feat_name)\n",
    "    chunker = ConsecutiveNPChunker(train_sents, feature_extractor)\n",
    "    print(chunker.evaluate(test_sents))"
   ]
  }
 ],
 "metadata": {
  "kernelspec": {
   "display_name": "Python 3",
   "language": "python",
   "name": "python3"
  },
  "language_info": {
   "codemirror_mode": {
    "name": "ipython",
    "version": 3
   },
   "file_extension": ".py",
   "mimetype": "text/x-python",
   "name": "python",
   "nbconvert_exporter": "python",
   "pygments_lexer": "ipython3",
   "version": "3.4.6"
  }
 },
 "nbformat": 4,
 "nbformat_minor": 2
}
